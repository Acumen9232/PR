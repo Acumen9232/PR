{
 "cells": [
  {
   "cell_type": "markdown",
   "id": "bb5eb8ea-f288-421e-990b-98c0f95e23cc",
   "metadata": {},
   "source": [
    "<h1>ch01_HomeWork_0</h1>"
   ]
  },
  {
   "cell_type": "code",
   "execution_count": 1,
   "id": "d45df1c5-7336-4717-bac4-67bfb59655c9",
   "metadata": {},
   "outputs": [
    {
     "name": "stdout",
     "output_type": "stream",
     "text": [
      " \n",
      "\n",
      "n= 3,  \n",
      "\n",
      "A= [[ 0 -5 -2]\n",
      " [-2  2  4]\n",
      " [-2  0 -3]] \n",
      "\n",
      "b= [[0]\n",
      " [3]\n",
      " [4]] \n",
      "\n",
      "x= [[-1.75806452]\n",
      " [ 0.06451613]\n",
      " [-0.16129032]]\n",
      "\n",
      "check= True\n",
      "\n",
      "\n"
     ]
    }
   ],
   "source": [
    "import numpy as np\n",
    "n3= 3 \n",
    "\n",
    "np.random.seed(0) \n",
    "\n",
    "A3= np.random.randint(-5,5,size=(n3,n3)) \n",
    "\n",
    " \n",
    "np.random.seed(1) \n",
    "\n",
    "b3= np.random.randint(-5,5,size=(n3,1)) \n",
    " \n",
    "x3= np.linalg.solve(A3, b3) \n",
    "\n",
    "checks= A3@x3 == b3\n",
    "check=True\n",
    "for i in checks:\n",
    "    check&i\n",
    "\n",
    "print( \n",
    "\n",
    "f''' \n",
    "\n",
    "n= {n3},  \n",
    "\n",
    "A= {A3} \n",
    "\n",
    "b= {b3} \n",
    "\n",
    "x= {x3}\n",
    "\n",
    "check= {check}\n",
    "\n",
    "''') "
   ]
  },
  {
   "cell_type": "code",
   "execution_count": 2,
   "id": "3915a35d-c5df-414a-90ac-c86a21eb50a4",
   "metadata": {},
   "outputs": [
    {
     "name": "stdout",
     "output_type": "stream",
     "text": [
      " \n",
      "\n",
      "n= 5,  \n",
      "\n",
      "A= [[ 3  3  1 -3  3]\n",
      " [ 2 -3 -4  0 -1]\n",
      " [-1  0  2 -2  1]\n",
      " [-1 -2  2  1 -4]\n",
      " [-2  0  3 -1  1]] \n",
      "\n",
      "b= [[ 3]\n",
      " [ 4]\n",
      " [-2]\n",
      " [ 3]\n",
      " [ 3]] \n",
      "\n",
      "x= [[ 6.13235294]\n",
      " [-6.04411765]\n",
      " [ 5.38235294]\n",
      " [ 5.75      ]\n",
      " [ 4.86764706]] \n",
      "\n",
      "check= True\n",
      "\n",
      "\n"
     ]
    }
   ],
   "source": [
    "n5= 5 \n",
    "\n",
    "np.random.seed(2) \n",
    "\n",
    "A5= np.random.randint(-5,5,size=(n5,n5)) \n",
    "\n",
    " \n",
    "np.random.seed(3) \n",
    "\n",
    "b5= np.random.randint(-5,5,size=(n5,1)) \n",
    " \n",
    "x5= np.linalg.solve(A5, b5) \n",
    "\n",
    "checks= A5@x5 == b5\n",
    "check=True\n",
    "for i in checks:\n",
    "    check&i\n",
    "\n",
    "print( \n",
    "\n",
    "f''' \n",
    "\n",
    "n= {n5},  \n",
    "\n",
    "A= {A5} \n",
    "\n",
    "b= {b5} \n",
    "\n",
    "x= {x5} \n",
    "\n",
    "check= {check}\n",
    "\n",
    "''') "
   ]
  },
  {
   "cell_type": "code",
   "execution_count": 3,
   "id": "f69c3014-28a0-4ac6-bf8b-b9ed61fc6bed",
   "metadata": {},
   "outputs": [
    {
     "name": "stdout",
     "output_type": "stream",
     "text": [
      " \n",
      "\n",
      "n= 10,  \n",
      "\n",
      "A= [[ 2  0 -4  3  2  3 -3  4  2  2]\n",
      " [ 2  4  3 -1 -3  1 -1 -2 -5  2]\n",
      " [ 0  0  4  1  1  3 -3  0  3 -4]\n",
      " [-3  2 -5  3 -2 -4 -5 -2 -3 -2]\n",
      " [-3  4 -3 -4 -5 -4  4  4 -5  2]\n",
      " [-3  1 -2  2  3 -3  1  2  2  4]\n",
      " [-3  2  0 -2 -5  0 -1 -2  3  4]\n",
      " [ 0  3  1  2 -5 -1  1  3 -1  3]\n",
      " [-4  4  0 -1 -3 -2 -1  2  1  1]\n",
      " [ 3 -5 -2  0  1 -4 -4  1 -5  3]] \n",
      "\n",
      "b= [[-2]\n",
      " [ 1]\n",
      " [ 1]\n",
      " [-5]\n",
      " [ 4]\n",
      " [ 3]\n",
      " [-1]\n",
      " [ 2]\n",
      " [-5]\n",
      " [-5]] \n",
      "\n",
      "x= [[-9.6889042 ]\n",
      " [-5.29476511]\n",
      " [ 1.56114311]\n",
      " [ 3.41077623]\n",
      " [-0.13824567]\n",
      " [ 7.77140026]\n",
      " [ 1.572224  ]\n",
      " [ 0.81234271]\n",
      " [-6.21076344]\n",
      " [ 2.12058537]] \n",
      "\n",
      "check= True\n",
      "\n",
      "\n"
     ]
    }
   ],
   "source": [
    "n10= 10 \n",
    "\n",
    "np.random.seed(4) \n",
    "\n",
    "A10= np.random.randint(-5,5,size=(n10,n10)) \n",
    "\n",
    " \n",
    "np.random.seed(5) \n",
    "\n",
    "b10= np.random.randint(-5,5,size=(n10,1)) \n",
    " \n",
    "x10= np.linalg.solve(A10, b10) \n",
    " \n",
    "checks= A10@x10 == b10\n",
    "check=True\n",
    "for i in checks:\n",
    "    check&i\n",
    "\n",
    "print( \n",
    "\n",
    "f''' \n",
    "\n",
    "n= {n10},  \n",
    "\n",
    "A= {A10} \n",
    "\n",
    "b= {b10} \n",
    "\n",
    "x= {x10} \n",
    "\n",
    "check= {check}\n",
    "\n",
    "''')  "
   ]
  },
  {
   "cell_type": "markdown",
   "id": "4df615e1-40fe-4956-9b1f-723a7065a32b",
   "metadata": {},
   "source": [
    "<h1>Matrix decompositions</h1>"
   ]
  },
  {
   "cell_type": "code",
   "execution_count": 4,
   "id": "a1c043c4-6ed3-4376-8da1-44ecd9242409",
   "metadata": {},
   "outputs": [
    {
     "name": "stdout",
     "output_type": "stream",
     "text": [
      "A= \n",
      "[[ 0 -5 -2 -2]\n",
      " [ 2  4 -2  0]\n",
      " [-3 -1  2  1]\n",
      " [ 3  3 -4  1]]\n",
      "det= -63.99999999999998\n",
      "\n",
      "i,j= 00, Bij= \n",
      "[[ 4 -2  0]\n",
      " [-1  2  1]\n",
      " [ 3 -4  1]]\n",
      "\n",
      "i,j= 00, Bij= \n",
      "[[ 2  1]\n",
      " [-4  1]]\n",
      "\n",
      "i,j= 00, Bij= \n",
      "[[1]]\n",
      ".... Dij= 1\n",
      "\n",
      "i,j= 01, Bij= \n",
      "[[-4]]\n",
      ".... Dij= -4\n",
      ".... Dij= 6\n",
      "\n",
      "i,j= 01, Bij= \n",
      "[[-1  1]\n",
      " [ 3  1]]\n",
      "\n",
      "i,j= 00, Bij= \n",
      "[[1]]\n",
      ".... Dij= 1\n",
      "\n",
      "i,j= 01, Bij= \n",
      "[[3]]\n",
      ".... Dij= 3\n",
      ".... Dij= -4\n",
      "\n",
      "i,j= 02, Bij= \n",
      "[[-1  2]\n",
      " [ 3 -4]]\n",
      "\n",
      "i,j= 00, Bij= \n",
      "[[-4]]\n",
      ".... Dij= -4\n",
      "\n",
      "i,j= 01, Bij= \n",
      "[[3]]\n",
      ".... Dij= 3\n",
      ".... Dij= -2\n",
      ".... Dij= 16\n",
      "\n",
      "i,j= 01, Bij= \n",
      "[[ 2 -2  0]\n",
      " [-3  2  1]\n",
      " [ 3 -4  1]]\n",
      "\n",
      "i,j= 00, Bij= \n",
      "[[ 2  1]\n",
      " [-4  1]]\n",
      "\n",
      "i,j= 00, Bij= \n",
      "[[1]]\n",
      ".... Dij= 1\n",
      "\n",
      "i,j= 01, Bij= \n",
      "[[-4]]\n",
      ".... Dij= -4\n",
      ".... Dij= 6\n",
      "\n",
      "i,j= 01, Bij= \n",
      "[[-3  1]\n",
      " [ 3  1]]\n",
      "\n",
      "i,j= 00, Bij= \n",
      "[[1]]\n",
      ".... Dij= 1\n",
      "\n",
      "i,j= 01, Bij= \n",
      "[[3]]\n",
      ".... Dij= 3\n",
      ".... Dij= -6\n",
      "\n",
      "i,j= 02, Bij= \n",
      "[[-3  2]\n",
      " [ 3 -4]]\n",
      "\n",
      "i,j= 00, Bij= \n",
      "[[-4]]\n",
      ".... Dij= -4\n",
      "\n",
      "i,j= 01, Bij= \n",
      "[[3]]\n",
      ".... Dij= 3\n",
      ".... Dij= 6\n",
      ".... Dij= 0\n",
      "\n",
      "i,j= 02, Bij= \n",
      "[[ 2  4  0]\n",
      " [-3 -1  1]\n",
      " [ 3  3  1]]\n",
      "\n",
      "i,j= 00, Bij= \n",
      "[[-1  1]\n",
      " [ 3  1]]\n",
      "\n",
      "i,j= 00, Bij= \n",
      "[[1]]\n",
      ".... Dij= 1\n",
      "\n",
      "i,j= 01, Bij= \n",
      "[[3]]\n",
      ".... Dij= 3\n",
      ".... Dij= -4\n",
      "\n",
      "i,j= 01, Bij= \n",
      "[[-3  1]\n",
      " [ 3  1]]\n",
      "\n",
      "i,j= 00, Bij= \n",
      "[[1]]\n",
      ".... Dij= 1\n",
      "\n",
      "i,j= 01, Bij= \n",
      "[[3]]\n",
      ".... Dij= 3\n",
      ".... Dij= -6\n",
      "\n",
      "i,j= 02, Bij= \n",
      "[[-3 -1]\n",
      " [ 3  3]]\n",
      "\n",
      "i,j= 00, Bij= \n",
      "[[3]]\n",
      ".... Dij= 3\n",
      "\n",
      "i,j= 01, Bij= \n",
      "[[3]]\n",
      ".... Dij= 3\n",
      ".... Dij= -6\n",
      ".... Dij= 16\n",
      "\n",
      "i,j= 03, Bij= \n",
      "[[ 2  4 -2]\n",
      " [-3 -1  2]\n",
      " [ 3  3 -4]]\n",
      "\n",
      "i,j= 00, Bij= \n",
      "[[-1  2]\n",
      " [ 3 -4]]\n",
      "\n",
      "i,j= 00, Bij= \n",
      "[[-4]]\n",
      ".... Dij= -4\n",
      "\n",
      "i,j= 01, Bij= \n",
      "[[3]]\n",
      ".... Dij= 3\n",
      ".... Dij= -2\n",
      "\n",
      "i,j= 01, Bij= \n",
      "[[-3  2]\n",
      " [ 3 -4]]\n",
      "\n",
      "i,j= 00, Bij= \n",
      "[[-4]]\n",
      ".... Dij= -4\n",
      "\n",
      "i,j= 01, Bij= \n",
      "[[3]]\n",
      ".... Dij= 3\n",
      ".... Dij= 6\n",
      "\n",
      "i,j= 02, Bij= \n",
      "[[-3 -1]\n",
      " [ 3  3]]\n",
      "\n",
      "i,j= 00, Bij= \n",
      "[[3]]\n",
      ".... Dij= 3\n",
      "\n",
      "i,j= 01, Bij= \n",
      "[[3]]\n",
      ".... Dij= 3\n",
      ".... Dij= -6\n",
      ".... Dij= -16\n",
      "\n",
      "det= -64\n"
     ]
    }
   ],
   "source": [
    "n= 4  \n",
    "\n",
    " \n",
    "\n",
    "np.random.seed(0) \n",
    "\n",
    "A= np.random.randint(-5,5,size=(n,n)) \n",
    "\n",
    "print(f'A= \\n{A}') \n",
    "\n",
    " \n",
    "\n",
    "det= np.linalg.det(A) \n",
    "\n",
    "print(f'det= {det}') \n",
    "\n",
    " \n",
    "\n",
    "def ryDet(A): \n",
    "\n",
    "     \n",
    "\n",
    "    n= A.shape[0] \n",
    "\n",
    "    if n>1: \n",
    "\n",
    "        i= 0 \n",
    "\n",
    "        Bi=  np.delete(A, i, axis=0) \n",
    "\n",
    "        #print(f'\\ni= {i}, Bi= \\n{Bi}') \n",
    "\n",
    "         \n",
    "\n",
    "        det= 0 \n",
    "\n",
    "        for j in range(n): \n",
    "\n",
    "             \n",
    "\n",
    "            Bij= np.delete(Bi,j, axis=1) \n",
    "\n",
    "            print(f'\\ni,j= {i}{j}, Bij= \\n{Bij}') \n",
    "\n",
    "             \n",
    "\n",
    "            Dij= ryDet(Bij) #np.linalg.det(Bij) \n",
    "\n",
    "            print(f'.... Dij= {Dij}') \n",
    "\n",
    "             \n",
    "\n",
    "            Cij= A[i,j]*Dij*(-1)**(i+j) \n",
    "\n",
    "            det += Cij \n",
    "\n",
    "        #print(f'det= {det}') \n",
    "\n",
    "        return det \n",
    "\n",
    "     \n",
    "\n",
    "    elif A.shape[0]==1: \n",
    "\n",
    "        det= A[0,0] \n",
    "\n",
    "        return det \n",
    "\n",
    "    else: \n",
    "\n",
    "        return None \n",
    "\n",
    " \n",
    "\n",
    "det= ryDet(A) \n",
    "\n",
    "print(f'\\ndet= {det}') "
   ]
  },
  {
   "cell_type": "markdown",
   "id": "ef098139-7dac-42d1-97fd-a77ce0be5ed8",
   "metadata": {},
   "source": [
    "<h1>ch01_HomeWork_1 </h1><br>\n",
    "參考<a https://people.duke.edu/~ccc14/sta-663-2016/07_LinearAlgebra2.html>This</a> <br>\n",
    "並跑程式碼"
   ]
  },
  {
   "cell_type": "code",
   "execution_count": 5,
   "id": "ca499388-dfc0-4c97-abe1-b9612bf2682c",
   "metadata": {},
   "outputs": [],
   "source": [
    "import os\n",
    "import sys\n",
    "import glob\n",
    "import matplotlib.pyplot as plt\n",
    "import numpy as np\n",
    "import pandas as pd\n",
    "%matplotlib inline\n",
    "%precision 4\n",
    "plt.style.use('ggplot')"
   ]
  },
  {
   "cell_type": "code",
   "execution_count": 6,
   "id": "69e6074e-c345-420b-89a6-72614eb8118a",
   "metadata": {},
   "outputs": [
    {
     "name": "stdout",
     "output_type": "stream",
     "text": [
      "[[1. 3. 4.]\n",
      " [2. 1. 3.]\n",
      " [4. 1. 2.]]\n",
      "[[1.  0.  0. ]\n",
      " [2.  1.  0. ]\n",
      " [4.  2.2 1. ]]\n",
      "[[ 1  3  4]\n",
      " [ 0 -5 -5]\n",
      " [ 0  0 -3]]\n"
     ]
    }
   ],
   "source": [
    "import numpy as np\n",
    "import scipy.linalg as la\n",
    "np.set_printoptions(suppress=True)\n",
    "\n",
    "A = np.array([[1,3,4],[2,1,3],[4,1,2]])\n",
    "\n",
    "L = np.array([[1,0,0],[2,1,0],[4,11/5,1]])\n",
    "U = np.array([[1,3,4],[0,-5,-5],[0,0,-3]])\n",
    "print(L.dot(U))\n",
    "print(L)\n",
    "print(U)"
   ]
  },
  {
   "cell_type": "code",
   "execution_count": 7,
   "id": "c39aa2de-1bac-4614-86f1-7905c8a34e1f",
   "metadata": {},
   "outputs": [
    {
     "name": "stdout",
     "output_type": "stream",
     "text": [
      "[[1 3 4]\n",
      " [2 1 3]\n",
      " [4 1 2]]\n",
      "[[4. 1. 2.]\n",
      " [1. 3. 4.]\n",
      " [2. 1. 3.]]\n",
      "[[4. 1. 2.]\n",
      " [1. 3. 4.]\n",
      " [2. 1. 3.]]\n",
      "[[0. 1. 0.]\n",
      " [0. 0. 1.]\n",
      " [1. 0. 0.]]\n",
      "[[1.     0.     0.    ]\n",
      " [0.25   1.     0.    ]\n",
      " [0.5    0.1818 1.    ]]\n",
      "[[4.     1.     2.    ]\n",
      " [0.     2.75   3.5   ]\n",
      " [0.     0.     1.3636]]\n"
     ]
    }
   ],
   "source": [
    "import numpy as np\n",
    "import scipy.linalg as la\n",
    "np.set_printoptions(suppress=True)\n",
    "\n",
    "A = np.array([[1,3,4],[2,1,3],[4,1,2]])\n",
    "\n",
    "print(A)\n",
    "\n",
    "P, L, U = la.lu(A)\n",
    "print(np.dot(P.T, A))\n",
    "print\n",
    "print(np.dot(L, U))\n",
    "print(P)\n",
    "print(L)\n",
    "print(U)"
   ]
  },
  {
   "cell_type": "code",
   "execution_count": 8,
   "id": "fc8aee96-93a6-4382-aa5e-5742aaf489a1",
   "metadata": {},
   "outputs": [
    {
     "name": "stdout",
     "output_type": "stream",
     "text": [
      "[[ 1.  3.  5.]\n",
      " [ 3. 13. 23.]\n",
      " [ 5. 23. 42.]]\n",
      "[[1. 3. 5.]\n",
      " [0. 2. 4.]\n",
      " [0. 0. 1.]]\n",
      "[[ 1  3  5]\n",
      " [ 3 13 23]\n",
      " [ 5 23 42]]\n"
     ]
    }
   ],
   "source": [
    "A = np.array([[1,3,5],[3,13,23],[5,23,42]])\n",
    "L = la.cholesky(A)\n",
    "print(np.dot(L.T, L))\n",
    "\n",
    "print(L)\n",
    "print(A)"
   ]
  },
  {
   "cell_type": "code",
   "execution_count": 9,
   "id": "df418166-d0d1-45a7-b205-8e0cc3fb261e",
   "metadata": {},
   "outputs": [
    {
     "name": "stdout",
     "output_type": "stream",
     "text": [
      "[[ 0.+0.j  1.+0.j  1.+0.j]\n",
      " [ 2.+0.j  1.+0.j -0.+0.j]\n",
      " [ 3.+0.j  4.+0.j  5.+0.j]]\n",
      "[ 5.8541+0.j -0.8541+0.j  1.    +0.j]\n"
     ]
    }
   ],
   "source": [
    "A = np.array([[0,1,1],[2,1,0],[3,4,5]])\n",
    "\n",
    "u, V = la.eig(A)\n",
    "print(np.dot(V,np.dot(np.diag(u), la.inv(V))))\n",
    "print(u)"
   ]
  },
  {
   "cell_type": "code",
   "execution_count": 10,
   "id": "9fab04d5-da38-4165-b57a-6355aa25d6d4",
   "metadata": {},
   "outputs": [
    {
     "name": "stdout",
     "output_type": "stream",
     "text": [
      "[[ 0  1]\n",
      " [-1  0]]\n",
      "[[ 0.+0.j  1.+0.j]\n",
      " [-1.+0.j  0.+0.j]]\n",
      "[0.+1.j 0.-1.j]\n"
     ]
    }
   ],
   "source": [
    "A = np.array([[0,1],[-1,0]])\n",
    "print(A)\n",
    "\n",
    "u, V = la.eig(A)\n",
    "print(np.dot(V,np.dot(np.diag(u), la.inv(V))))\n",
    "print(u)"
   ]
  },
  {
   "cell_type": "code",
   "execution_count": 11,
   "id": "7b195a9b-0ec5-4f88-856a-d8726ddff1b0",
   "metadata": {},
   "outputs": [
    {
     "name": "stdout",
     "output_type": "stream",
     "text": [
      "[ 5.8541+0.j -0.8541+0.j  1.    +0.j]\n",
      "[ 5.8541 -0.8541  1.    ]\n"
     ]
    }
   ],
   "source": [
    "A = np.array([[0,1,1],[2,1,0],[3,4,5]])\n",
    "u, V = la.eig(A)\n",
    "print(u)\n",
    "print(np.real_if_close(u))"
   ]
  },
  {
   "cell_type": "code",
   "execution_count": 12,
   "id": "65c4439e-511e-42d8-96cc-1ee1767eec10",
   "metadata": {},
   "outputs": [
    {
     "data": {
      "text/plain": [
       "array([1., 1., 1., 1.])"
      ]
     },
     "execution_count": 12,
     "metadata": {},
     "output_type": "execute_result"
    }
   ],
   "source": [
    "A = np.array([[8,6,4,1],[1,4,5,1],[8,4,1,1],[1,4,3,6]])\n",
    "b = np.array([19,11,14,14])\n",
    "la.solve(A,b)"
   ]
  },
  {
   "cell_type": "code",
   "execution_count": 13,
   "id": "1bb37eb1-5a09-436d-bdb3-b1d71bd42e7e",
   "metadata": {},
   "outputs": [
    {
     "data": {
      "text/plain": [
       "array([-2.34 ,  9.745, -4.85 , -1.34 ])"
      ]
     },
     "execution_count": 13,
     "metadata": {},
     "output_type": "execute_result"
    }
   ],
   "source": [
    "b = np.array([19.01,11.05,14.07,14.05])\n",
    "la.solve(A,b)"
   ]
  },
  {
   "cell_type": "code",
   "execution_count": 14,
   "id": "ca3357b0-9184-4c7c-a395-c2f2569894d0",
   "metadata": {},
   "outputs": [
    {
     "name": "stdout",
     "output_type": "stream",
     "text": [
      "[15.5457  6.9002  3.8363  0.0049]\n",
      "3198.6725811997335\n"
     ]
    }
   ],
   "source": [
    "U, s, V = np.linalg.svd(A)\n",
    "print(s)\n",
    "print(max(s)/min(s))"
   ]
  },
  {
   "cell_type": "code",
   "execution_count": 15,
   "id": "eb6ac82c-f37a-4bc3-bf8b-1dc1d5c6aa95",
   "metadata": {},
   "outputs": [
    {
     "name": "stdout",
     "output_type": "stream",
     "text": [
      "[[ 1.  2.  3.]\n",
      " [ 2. -4.  6.]\n",
      " [ 3. -9.  3.]]\n",
      "[[1.    0.    0.   ]\n",
      " [2.    1.    0.   ]\n",
      " [3.    1.875 1.   ]]\n",
      "[[ 1  2  3]\n",
      " [ 0 -8  0]\n",
      " [ 0  0 -6]]\n"
     ]
    }
   ],
   "source": [
    "A = np.array([[1,2,3],[2,-4,6],[3,-9,-3]])\n",
    "L = np.array([[1,0,0],[2,1,0],[3,15/8,1]])\n",
    "U = np.array([[1,2,3],[0,-8,0],[0,0,-6]])\n",
    "print(L.dot(U))\n",
    "print(L)\n",
    "print(U)"
   ]
  },
  {
   "cell_type": "code",
   "execution_count": 16,
   "id": "17aca10e-13f5-44e0-9778-d1d6c892ab21",
   "metadata": {},
   "outputs": [],
   "source": [
    "A = np.array([[1,2,3],[2,-4,6],[3,6,-3]]) #A為非正定\n",
    "\n",
    "def svdsolver(A,b):\n",
    "    U, s, V = np.linalg.svd(A)\n",
    "    if np.prod(s) == 0:\n",
    "       print(\"Matrix is singular\")\n",
    "    else:\n",
    "       return np.dot(np.dot((V.T).dot(np.diag(s**(-1))), U.T),b)"
   ]
  },
  {
   "cell_type": "code",
   "execution_count": 17,
   "id": "93f419d2-f8e0-4cda-9546-64141c4f30f5",
   "metadata": {},
   "outputs": [
    {
     "name": "stdout",
     "output_type": "stream",
     "text": [
      "[ 5. -2.]\n",
      "[ 5. -2.]\n"
     ]
    }
   ],
   "source": [
    "A = np.array([[1,1],[1,2]])\n",
    "b = np.array([3,1])\n",
    "print(np.linalg.solve(A,b))\n",
    "print(svdsolver(A,b))"
   ]
  }
 ],
 "metadata": {
  "kernelspec": {
   "display_name": "Python 3",
   "language": "python",
   "name": "python3"
  },
  "language_info": {
   "codemirror_mode": {
    "name": "ipython",
    "version": 3
   },
   "file_extension": ".py",
   "mimetype": "text/x-python",
   "name": "python",
   "nbconvert_exporter": "python",
   "pygments_lexer": "ipython3",
   "version": "3.8.8"
  }
 },
 "nbformat": 4,
 "nbformat_minor": 5
}
