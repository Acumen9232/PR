{
 "cells": [
  {
   "cell_type": "code",
   "execution_count": 1,
   "id": "4635aa24-40a5-4208-9acc-7e912ce57244",
   "metadata": {},
   "outputs": [
    {
     "data": {
      "text/plain": [
       "(array([0, 0, 0, 0, 1, 0, 0, 0, 0, 0]),\n",
       " array([0.8, 0.2]),\n",
       " array([0.8, 1. ]),\n",
       " array([-1.,  0.,  0.,  0.,  1.]))"
      ]
     },
     "execution_count": 1,
     "metadata": {},
     "output_type": "execute_result"
    }
   ],
   "source": [
    "import scipy.stats as st \n",
    "import scipy.special as sc\n",
    "import numpy as np\n",
    "import sympy as sm\n",
    " \n",
    "\n",
    "percent_points= 百分位= [0, 1/4, 2/4, 3/4, 1] \n",
    " \n",
    "\n",
    "# Bernoulli \n",
    "k= [0,1] \n",
    " \n",
    "\n",
    "X=   st.bernoulli(p= 0.2).rvs(size= 10) \n",
    "pmf= st.bernoulli(p= 0.2).pmf(k) \n",
    "cdf= st.bernoulli(p= 0.2).cdf(k) \n",
    "ppf= st.bernoulli(p= 0.2).ppf(percent_points) \n",
    "X, pmf, cdf, ppf"
   ]
  },
  {
   "cell_type": "code",
   "execution_count": 2,
   "id": "e6303374-9a0a-4520-8782-3d74191516d4",
   "metadata": {},
   "outputs": [
    {
     "data": {
      "text/plain": [
       "(array([4, 7, 8, 2, 9, 1, 2, 5, 6, 8]),\n",
       " array([0.1, 0.1, 0.1, 0.1, 0.1, 0.1, 0.1, 0.1, 0.1, 0.1, 0. ]),\n",
       " array([0.1, 0.2, 0.3, 0.4, 0.5, 0.6, 0.7, 0.8, 0.9, 1. , 1. ]),\n",
       " array([-1.,  2.,  4.,  7.,  9.]))"
      ]
     },
     "execution_count": 2,
     "metadata": {},
     "output_type": "execute_result"
    }
   ],
   "source": [
    "# Discrete Uniform (randint) \n",
    "k=   np.arange(0,11) \n",
    " \n",
    "\n",
    "X=   st.randint(low=0, high=10).rvs(size= 10) \n",
    "pmf= st.randint(low=0, high=10).pmf(k) \n",
    "cdf= st.randint(low=0, high=10).cdf(k) \n",
    "ppf= st.randint(low=0, high=10).ppf(percent_points) \n",
    "X, pmf, cdf, ppf"
   ]
  },
  {
   "cell_type": "code",
   "execution_count": 3,
   "id": "377ef368-5ac7-4435-8815-78ffa09e9d71",
   "metadata": {},
   "outputs": [
    {
     "data": {
      "text/plain": [
       "(array([1, 1, 1, 5, 3, 4, 1, 3, 0, 1]),\n",
       " array([1.07374182e-01, 2.68435456e-01, 3.01989888e-01, 2.01326592e-01,\n",
       "        8.80803840e-02, 2.64241152e-02, 5.50502400e-03, 7.86432000e-04,\n",
       "        7.37280000e-05, 4.09600000e-06, 1.02400000e-07]),\n",
       " array([0.10737418, 0.37580964, 0.67779953, 0.87912612, 0.9672065 ,\n",
       "        0.99363062, 0.99913564, 0.99992207, 0.9999958 , 0.9999999 ,\n",
       "        1.        ]),\n",
       " array([-1.,  1.,  2.,  3., 10.]))"
      ]
     },
     "execution_count": 3,
     "metadata": {},
     "output_type": "execute_result"
    }
   ],
   "source": [
    "# Binomial \n",
    "k=   np.arange(0,11) \n",
    " \n",
    "\n",
    "X=   st.binom(n=10, p= 0.2).rvs(size= 10) \n",
    "pmf= st.binom(n=10, p= 0.2).pmf(k) \n",
    "cdf= st.binom(n=10, p= 0.2).cdf(k) \n",
    "ppf= st.binom(n=10, p= 0.2).ppf(percent_points) \n",
    "X, pmf, cdf, ppf"
   ]
  },
  {
   "cell_type": "code",
   "execution_count": 4,
   "id": "f39a83d9-c1e1-43e9-8445-572c1c39767a",
   "metadata": {},
   "outputs": [
    {
     "data": {
      "text/plain": [
       "[1, 10, 45, 120, 210, 252, 210, 120, 45, 10, 1]"
      ]
     },
     "execution_count": 4,
     "metadata": {},
     "output_type": "execute_result"
    }
   ],
   "source": [
    "n=  10 \n",
    "vb= [sm.binomial(n,k) for k in range(n+1)] \n",
    "vb "
   ]
  },
  {
   "cell_type": "code",
   "execution_count": 5,
   "id": "90554a01-d643-44c8-976b-7384ed483b3b",
   "metadata": {},
   "outputs": [
    {
     "data": {
      "text/plain": [
       "(array([0, 3, 3, 1, 2, 2, 1, 2, 0, 2]),\n",
       " array([1.35335283e-01, 2.70670566e-01, 2.70670566e-01, 1.80447044e-01,\n",
       "        9.02235222e-02, 3.60894089e-02, 1.20298030e-02, 3.43708656e-03,\n",
       "        8.59271640e-04, 1.90949253e-04, 3.81898506e-05]),\n",
       " array([0.13533528, 0.40600585, 0.67667642, 0.85712346, 0.94734698,\n",
       "        0.98343639, 0.99546619, 0.99890328, 0.99976255, 0.9999535 ,\n",
       "        0.99999169]),\n",
       " array([-1.,  1.,  2.,  3., inf]))"
      ]
     },
     "execution_count": 5,
     "metadata": {},
     "output_type": "execute_result"
    }
   ],
   "source": [
    "# Poisson \n",
    "k=   np.arange(0,11) \n",
    "X=   st.poisson(mu=2).rvs(size= 10) \n",
    "pmf= st.poisson(mu=2).pmf(k) \n",
    "cdf= st.poisson(mu=2).cdf(k) \n",
    "ppf= st.poisson(mu=2).ppf(percent_points) \n",
    "X, pmf, cdf, ppf"
   ]
  },
  {
   "cell_type": "code",
   "execution_count": 6,
   "id": "14a7036b-c432-4eb9-ab77-c1d7cb50d2f2",
   "metadata": {},
   "outputs": [
    {
     "data": {
      "text/plain": [
       "(array([ 8,  8,  1,  1,  1,  4,  6,  2, 20,  1]),\n",
       " array([0.        , 0.2       , 0.16      , 0.128     , 0.1024    ,\n",
       "        0.08192   , 0.065536  , 0.0524288 , 0.04194304, 0.03355443,\n",
       "        0.02684355, 0.02147484, 0.01717987, 0.0137439 , 0.01099512,\n",
       "        0.00879609, 0.00703687, 0.0056295 , 0.0045036 , 0.00360288,\n",
       "        0.0028823 ]),\n",
       " array([0.        , 0.2       , 0.36      , 0.488     , 0.5904    ,\n",
       "        0.67232   , 0.737856  , 0.7902848 , 0.83222784, 0.86578227,\n",
       "        0.89262582, 0.91410065, 0.93128052, 0.94502442, 0.95601953,\n",
       "        0.96481563, 0.9718525 , 0.977482  , 0.9819856 , 0.98558848,\n",
       "        0.98847078]),\n",
       " array([ 0.,  2.,  4.,  7., inf]))"
      ]
     },
     "execution_count": 6,
     "metadata": {},
     "output_type": "execute_result"
    }
   ],
   "source": [
    "# Geometric \n",
    "k=   np.arange(0,21) \n",
    "X=   st.geom(p=.2).rvs(size= 10) \n",
    "pmf= st.geom(p=.2).pmf(k) \n",
    "cdf= st.geom(p=.2).cdf(k) \n",
    "ppf= st.geom(p=.2).ppf(percent_points) \n",
    "X, pmf, cdf, ppf"
   ]
  },
  {
   "cell_type": "code",
   "execution_count": 7,
   "id": "64d69119-b53f-4f9d-8cb8-a46585748300",
   "metadata": {},
   "outputs": [
    {
     "data": {
      "text/plain": [
       "(array([18, 30, 61, 39, 34, 29, 22, 37, 51, 40]),\n",
       " array([1.02400000e-07, 8.19200000e-07, 3.60448000e-06, 1.15343360e-05,\n",
       "        2.99892736e-05, 6.71759729e-05, 1.34351946e-04, 2.45672129e-04,\n",
       "        4.17642620e-04, 6.68228192e-04, 1.01570685e-03, 1.47739178e-03,\n",
       "        2.06834850e-03, 2.80022566e-03, 3.68029658e-03, 4.71077962e-03,\n",
       "        5.88847453e-03, 7.20472177e-03, 8.64566613e-03, 1.01927853e-02,\n",
       "        1.18236310e-02]),\n",
       " array([1.02400000e-07, 9.21600000e-07, 4.52608000e-06, 1.60604160e-05,\n",
       "        4.60496896e-05, 1.13225662e-04, 2.47577608e-04, 4.93249738e-04,\n",
       "        9.10892357e-04, 1.57912055e-03, 2.59482740e-03, 4.07221918e-03,\n",
       "        6.14056768e-03, 8.94079334e-03, 1.26210899e-02, 1.73318695e-02,\n",
       "        2.32203441e-02, 3.04250658e-02, 3.90707320e-02, 4.92635173e-02,\n",
       "        6.10871483e-02]),\n",
       " array([-1., 30., 39., 49., inf]))"
      ]
     },
     "execution_count": 7,
     "metadata": {},
     "output_type": "execute_result"
    }
   ],
   "source": [
    "# Negative Binomial \n",
    " \n",
    "\n",
    "k=   np.arange(0,21) \n",
    "X=   st.nbinom(n=10, p= 0.2).rvs(size= 10) \n",
    "pmf= st.nbinom(n=10, p= 0.2).pmf(k) \n",
    "cdf= st.nbinom(n=10, p= 0.2).cdf(k) \n",
    "ppf= st.nbinom(n=10, p= 0.2).ppf(percent_points) \n",
    "X, pmf, cdf, ppf "
   ]
  },
  {
   "cell_type": "code",
   "execution_count": 8,
   "id": "180749df-7590-4c07-89d9-bfe1ee2ae3f4",
   "metadata": {},
   "outputs": [
    {
     "data": {
      "text/plain": [
       "[(0, 1),\n",
       " (1, -10),\n",
       " (2, 55),\n",
       " (3, -220),\n",
       " (4, 715),\n",
       " (5, -2002),\n",
       " (6, 5005),\n",
       " (7, -11440),\n",
       " (8, 24310),\n",
       " (9, -48620),\n",
       " (10, 92378)]"
      ]
     },
     "execution_count": 8,
     "metadata": {},
     "output_type": "execute_result"
    }
   ],
   "source": [
    "vnb= [(k, sm.binomial(-n,k)) for k in range(n+1)] \n",
    "vnb"
   ]
  },
  {
   "cell_type": "code",
   "execution_count": 9,
   "id": "a1ad7463-0a59-49e7-92e2-449c85cd8e52",
   "metadata": {},
   "outputs": [
    {
     "data": {
      "text/latex": [
       "$\\displaystyle \\frac{1}{\\left(x + 1\\right)^{10}}$"
      ],
      "text/plain": [
       "(x + 1)**(-10)"
      ]
     },
     "execution_count": 9,
     "metadata": {},
     "output_type": "execute_result"
    }
   ],
   "source": [
    "x, μ= sm.symbols('x, μ') \n",
    "σ=    sm.symbols('σ', positive=True)\n",
    "f= (1+x)**(-n)\n",
    "f"
   ]
  },
  {
   "cell_type": "code",
   "execution_count": 10,
   "id": "10b4fa21-9e3a-41ab-8df4-875e08a90069",
   "metadata": {},
   "outputs": [
    {
     "data": {
      "text/latex": [
       "$\\displaystyle \\frac{1}{x^{10} + 10 x^{9} + 45 x^{8} + 120 x^{7} + 210 x^{6} + 252 x^{5} + 210 x^{4} + 120 x^{3} + 45 x^{2} + 10 x + 1}$"
      ],
      "text/plain": [
       "1/(x**10 + 10*x**9 + 45*x**8 + 120*x**7 + 210*x**6 + 252*x**5 + 210*x**4 + 120*x**3 + 45*x**2 + 10*x + 1)"
      ]
     },
     "execution_count": 10,
     "metadata": {},
     "output_type": "execute_result"
    }
   ],
   "source": [
    "f.expand()"
   ]
  },
  {
   "cell_type": "code",
   "execution_count": 11,
   "id": "c2964e60-ea63-424d-9af1-09f20cafdbc2",
   "metadata": {},
   "outputs": [
    {
     "data": {
      "text/plain": [
       "(sqrt(2)*exp(-x**2/2)/(2*sqrt(pi)), erf(sqrt(2)*x/2)/2 + 1/2)"
      ]
     },
     "execution_count": 11,
     "metadata": {},
     "output_type": "execute_result"
    }
   ],
   "source": [
    "# Normal (Gauss) distribution \n",
    "π= sm.pi\n",
    "\n",
    "def f(x): \n",
    "    y= sm.exp(-x**2 /2) / sm.sqrt(2*π) \n",
    "    return y \n",
    " \n",
    "\n",
    "def F(x): \n",
    "    t= sm.symbols('t') \n",
    "    y= f(t).integrate((t, -sm.oo, x)) \n",
    "    return y \n",
    " \n",
    "\n",
    "x= sm.symbols('x') \n",
    "f(x), F(x) "
   ]
  },
  {
   "cell_type": "code",
   "execution_count": 12,
   "id": "ed71ef25-f5b4-4baa-a3d2-6ababa5e2467",
   "metadata": {},
   "outputs": [],
   "source": [
    "def ϕ(x): \n",
    "    y= sm.exp(-(x**2)/2) /sm.sqrt(2*π) \n",
    "    return y \n",
    " \n",
    "\n",
    "def f(x, μ=0, σ=1): \n",
    "    y= ϕ((x-μ)/σ) / σ \n",
    "    return y \n"
   ]
  },
  {
   "cell_type": "code",
   "execution_count": 13,
   "id": "6ec97b03-20d4-4d75-a794-25e807f54890",
   "metadata": {},
   "outputs": [
    {
     "data": {
      "text/latex": [
       "$\\displaystyle μ$"
      ],
      "text/plain": [
       "μ"
      ]
     },
     "metadata": {},
     "output_type": "display_data"
    },
    {
     "data": {
      "text/latex": [
       "$\\displaystyle μ^{2} + σ^{2}$"
      ],
      "text/plain": [
       "μ**2 + σ**2"
      ]
     },
     "metadata": {},
     "output_type": "display_data"
    },
    {
     "data": {
      "text/latex": [
       "$\\displaystyle σ^{2}$"
      ],
      "text/plain": [
       "σ**2"
      ]
     },
     "metadata": {},
     "output_type": "display_data"
    },
    {
     "data": {
      "text/plain": [
       "[μ]"
      ]
     },
     "metadata": {},
     "output_type": "display_data"
    }
   ],
   "source": [
    "E_X= ( \n",
    "    (x*f(x,μ,σ)) \n",
    "    .integrate( \n",
    "        (x,-sm.oo,sm.oo)) \n",
    ").simplify() \n",
    " \n",
    "\n",
    "# E[X**2]= \n",
    "E_XX= ( \n",
    "    ((x**2)*f(x,μ,σ)) \n",
    "    .integrate( \n",
    "        (x,-sm.oo,sm.oo)) \n",
    ").simplify() \n",
    " \n",
    "\n",
    "# Var[X]= \n",
    "Var_X= ( \n",
    "    (((x-μ)**2)*f(x,μ,σ)) \n",
    "    .integrate( \n",
    "        (x,-sm.oo,sm.oo)) \n",
    ").simplify() \n",
    " \n",
    "\n",
    "# Mode[X]=  \n",
    "Mode_X= ( \n",
    "    sm.solve( \n",
    "        f(x,μ,σ).diff(x), \n",
    "        x) \n",
    ") \n",
    " \n",
    "\n",
    "display(E_X) \n",
    "display(E_XX) \n",
    "display(Var_X) \n",
    "display(Mode_X) "
   ]
  }
 ],
 "metadata": {
  "kernelspec": {
   "display_name": "Python 3",
   "language": "python",
   "name": "python3"
  },
  "language_info": {
   "codemirror_mode": {
    "name": "ipython",
    "version": 3
   },
   "file_extension": ".py",
   "mimetype": "text/x-python",
   "name": "python",
   "nbconvert_exporter": "python",
   "pygments_lexer": "ipython3",
   "version": "3.8.8"
  }
 },
 "nbformat": 4,
 "nbformat_minor": 5
}
