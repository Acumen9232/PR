{
 "cells": [
  {
   "cell_type": "code",
   "execution_count": 1,
   "id": "b3c7e301-2a1e-4c34-a360-5db0522fab75",
   "metadata": {},
   "outputs": [
    {
     "data": {
      "text/plain": [
       "Text(0.5, 0, '$y$')"
      ]
     },
     "execution_count": 1,
     "metadata": {},
     "output_type": "execute_result"
    }
   ],
   "source": [
    "import numpy as np \n",
    "import matplotlib.pyplot as pl \n",
    " \n",
    "\n",
    "def generateY(x, w): \n",
    "    ϵ= np.random.normal( \n",
    "        loc=   0.0,  \n",
    "        scale= np.random.uniform(1,10),  \n",
    "        size= x.shape[1])     \n",
    "    x= np.concatenate( \n",
    "            (np.ones((1,N)), \n",
    "             x),  \n",
    "            axis=0) \n",
    "    y= w.T@x +ϵ \n",
    "    return y \n",
    " \n",
    "\n",
    "np.random.seed(0) \n",
    "N=    100 \n",
    " \n",
    "\n",
    "low= -3.0 \n",
    "high= 4.0 \n",
    "b= -3  # y軸 截距 \n",
    " \n",
    "\n",
    "w= np.array([b, 3, -2]) #.reshape(-1,1) \n",
    " \n",
    "\n",
    "x= np.random.uniform(low= low,  \n",
    "                     high=high,  \n",
    "                     size=(2,N)) \n",
    " \n",
    "\n",
    "y= generateY(x, w) \n",
    " \n",
    "\n",
    "%matplotlib qt \n",
    "ax= pl.axes(projection='3d') \n",
    "ax.scatter3D(x[0,:],x[1,:],y, color='red') \n",
    "ax.set_xlabel('$x_0$') \n",
    "ax.set_ylabel('$x_1$') \n",
    "ax.set_zlabel('$y$') "
   ]
  },
  {
   "cell_type": "code",
   "execution_count": 2,
   "id": "ec6b3d07-b217-49b5-ae7d-45091a360d15",
   "metadata": {},
   "outputs": [
    {
     "data": {
      "text/plain": [
       "(-3.41405079445415, array([ 2.70205492, -2.03634216]))"
      ]
     },
     "execution_count": 2,
     "metadata": {},
     "output_type": "execute_result"
    }
   ],
   "source": [
    "from sklearn import linear_model \n",
    " \n",
    "\n",
    "# 要用 scikit-learn 的話， x 要轉置成 (100,2) \n",
    "xT= x.T \n",
    " \n",
    "\n",
    "# 然後，就一步到位！ \n",
    "reg= linear_model.LinearRegression() \n",
    "reg.fit(xT, y) \n",
    " \n",
    "\n",
    "# answer: \n",
    "reg.intercept_, reg.coef_ "
   ]
  }
 ],
 "metadata": {
  "kernelspec": {
   "display_name": "Python 3",
   "language": "python",
   "name": "python3"
  },
  "language_info": {
   "codemirror_mode": {
    "name": "ipython",
    "version": 3
   },
   "file_extension": ".py",
   "mimetype": "text/x-python",
   "name": "python",
   "nbconvert_exporter": "python",
   "pygments_lexer": "ipython3",
   "version": "3.8.8"
  }
 },
 "nbformat": 4,
 "nbformat_minor": 5
}
