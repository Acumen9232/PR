{
 "cells": [
  {
   "cell_type": "markdown",
   "id": "0c55cd29-abfe-4cb5-bff4-c247dd02e17a",
   "metadata": {},
   "source": [
    "<h1>Ch01_HomeWork_02</h1>"
   ]
  },
  {
   "cell_type": "markdown",
   "id": "536df14f-1ce3-49dd-98c2-0bec8b0bf0ce",
   "metadata": {},
   "source": [
    "run ch01.py"
   ]
  },
  {
   "cell_type": "code",
   "execution_count": 1,
   "id": "fb69cba5-f9ae-4a14-823c-5b8cb184fac3",
   "metadata": {},
   "outputs": [],
   "source": [
    "x= 1\n",
    "y= 1.0\n",
    "z= 1+1j"
   ]
  },
  {
   "cell_type": "code",
   "execution_count": 2,
   "id": "cff1458b-8ad8-4640-9261-278109f4bf1c",
   "metadata": {},
   "outputs": [],
   "source": [
    "aList= [1,2,3]\n",
    "aSet=  {10,20,30}\n",
    "aDict= {'a':1, 'b':2, 'c':3}"
   ]
  },
  {
   "cell_type": "code",
   "execution_count": 3,
   "id": "bc8dc252-0373-48f8-abe9-cca947be737c",
   "metadata": {},
   "outputs": [],
   "source": [
    "import numpy as np\n",
    "\n",
    "v= [10, 20, 30]\n",
    "v= np.array(v)\n",
    "\n",
    "\n",
    "A= [[1, 2, 3],\n",
    "    [4, 5, 6]]\n",
    "\n",
    "A= np.array(A)"
   ]
  },
  {
   "cell_type": "code",
   "execution_count": 4,
   "id": "49716765-c61a-4ad8-b48a-a3a9ffeaae3e",
   "metadata": {},
   "outputs": [],
   "source": [
    "v1= [10, 20, 30]\n",
    "v2= [40, 50, 60]\n",
    "\n",
    "v1= np.array(v1)\n",
    "v2= np.array(v2)"
   ]
  },
  {
   "cell_type": "code",
   "execution_count": 5,
   "id": "8a00fdff-f15e-422b-bfb5-b3e9e74efbca",
   "metadata": {},
   "outputs": [],
   "source": [
    "B= np.arange(2*3*4)"
   ]
  },
  {
   "cell_type": "code",
   "execution_count": 6,
   "id": "16287d3f-f4b9-417d-8284-101bcd387431",
   "metadata": {},
   "outputs": [],
   "source": [
    "B= B.reshape(2,3,4)"
   ]
  },
  {
   "cell_type": "code",
   "execution_count": 7,
   "id": "e3fa7621-1930-428f-b794-70338a607c01",
   "metadata": {},
   "outputs": [],
   "source": [
    "import sympy as sy\n",
    "x,y,z= sy.symbols('x,y,z')\n",
    "\n",
    "from sympy import MatrixSymbol, Matrix"
   ]
  },
  {
   "cell_type": "code",
   "execution_count": 8,
   "id": "ff9054de-fdb8-486a-af3e-e04471f5c959",
   "metadata": {},
   "outputs": [
    {
     "data": {
      "text/plain": [
       "array([[ True],\n",
       "       [ True]])"
      ]
     },
     "execution_count": 8,
     "metadata": {},
     "output_type": "execute_result"
    }
   ],
   "source": [
    "A= [[1,-2],\n",
    "    [2, 1]]\n",
    "A= np.array(A)\n",
    "\n",
    "b= [1,7]\n",
    "b= np.array(b)\n",
    "b= b.reshape(2,1)\n",
    "\n",
    "#[sol]\n",
    "x= np.linalg.solve(A,b)\n",
    "\n",
    "# 驗算\n",
    "A@x == b \n",
    "np.isclose(A@x, b) "
   ]
  },
  {
   "cell_type": "code",
   "execution_count": 9,
   "id": "1912029f-67ad-47fa-9b6b-8fe59997d31e",
   "metadata": {},
   "outputs": [
    {
     "data": {
      "text/plain": [
       "array([[ True],\n",
       "       [ True]])"
      ]
     },
     "execution_count": 9,
     "metadata": {},
     "output_type": "execute_result"
    }
   ],
   "source": [
    "# [sol2[]\n",
    "\n",
    "x1= np.linalg.inv(A) @ b\n",
    "\n",
    "# 驗算\n",
    "A@x1 == b\n",
    "np.isclose(A@x1, b)"
   ]
  },
  {
   "cell_type": "code",
   "execution_count": 10,
   "id": "3ba03114-3412-4fae-8456-3230cb5d0d4e",
   "metadata": {},
   "outputs": [
    {
     "name": "stdout",
     "output_type": "stream",
     "text": [
      "\n",
      "n= \n",
      "3, \n",
      "A= \n",
      "[[ 0 -5 -2]\n",
      " [-2  2  4]\n",
      " [-2  0 -3]]\n",
      "b= \n",
      "[[0]\n",
      " [3]\n",
      " [4]]\n",
      "x= \n",
      "[[-1.75806452]\n",
      " [ 0.06451613]\n",
      " [-0.16129032]]\n",
      "\n"
     ]
    }
   ],
   "source": [
    "n= 3 #np.random.randint(2,10)\n",
    "\n",
    "np.random.seed(0)\n",
    "A= np.random.randint(-5,5,size=(n,n))\n",
    "\n",
    "np.random.seed(1)\n",
    "b= np.random.randint(-5,5,size=(n,1))\n",
    "\n",
    "x= np.linalg.solve(A, b)\n",
    "\n",
    "print(\n",
    "f'''\n",
    "n= \n",
    "{n}, \n",
    "A= \n",
    "{A}\n",
    "b= \n",
    "{b}\n",
    "x= \n",
    "{x}\n",
    "''')"
   ]
  },
  {
   "cell_type": "code",
   "execution_count": 11,
   "id": "60a32fcb-97cd-4a9b-aa31-ed1a625ca4f4",
   "metadata": {},
   "outputs": [
    {
     "name": "stdout",
     "output_type": "stream",
     "text": [
      "\n",
      "n= \n",
      "3, \n",
      "A= \n",
      "[[ 0 -5 -2]\n",
      " [-2  2  4]\n",
      " [-2  0 -3]]\n",
      "invA=\n",
      "[[-0.09677419 -0.24193548 -0.25806452]\n",
      " [-0.22580645 -0.06451613  0.06451613]\n",
      " [ 0.06451613  0.16129032 -0.16129032]]\n",
      "b= \n",
      "[[0]\n",
      " [3]\n",
      " [4]]\n",
      "x1= \n",
      "[[-1.75806452]\n",
      " [ 0.06451613]\n",
      " [-0.16129032]]\n",
      "\n"
     ]
    }
   ],
   "source": [
    "invA= np.linalg.inv(A)\n",
    "\n",
    "x1= invA @ b\n",
    "\n",
    "print(\n",
    "f'''\n",
    "n= \n",
    "{n}, \n",
    "A= \n",
    "{A}\n",
    "invA=\n",
    "{invA}\n",
    "b= \n",
    "{b}\n",
    "x1= \n",
    "{x1}\n",
    "''')"
   ]
  },
  {
   "cell_type": "code",
   "execution_count": 12,
   "id": "9a4dbe8a-16df-421d-8097-1cc809d50731",
   "metadata": {},
   "outputs": [
    {
     "name": "stdout",
     "output_type": "stream",
     "text": [
      "[[ True]\n",
      " [ True]\n",
      " [ True]]\n",
      "[[ True]\n",
      " [ True]\n",
      " [ True]]\n"
     ]
    }
   ],
   "source": [
    "validation= np.isclose(A@x, b)\n",
    "print(validation)\n",
    "\n",
    "validation= np.isclose(A@x1, b)\n",
    "print(validation)"
   ]
  },
  {
   "cell_type": "code",
   "execution_count": 13,
   "id": "db4105f3-5a76-43f4-a670-415ba35132e0",
   "metadata": {},
   "outputs": [],
   "source": [
    "def yhDet(A): \n",
    "\n",
    "    n= A.shape[0] \n",
    "\n",
    "    if n>1: \n",
    "\n",
    "        i= 0 \n",
    "\n",
    "        Bi=  np.delete(A, i, axis=0) \n",
    "\n",
    "        det= 0 \n",
    "\n",
    "        for j in range(n): \n",
    "\n",
    "            Bij= np.delete(Bi,j, axis=1) \n",
    "\n",
    "            Dij= yhDet(Bij)        \n",
    "\n",
    "            Cij= A[i,j]*Dij*(-1)**(i+j) \n",
    "\n",
    "            det += Cij \n",
    "\n",
    "        return det \n",
    "\n",
    "     \n",
    "\n",
    "    elif A.shape[0]==1: \n",
    "\n",
    "        det= A[0,0] \n",
    "\n",
    "        return det \n",
    "\n",
    "    else: \n",
    "\n",
    "        return None"
   ]
  },
  {
   "cell_type": "code",
   "execution_count": 14,
   "id": "4dba6f70-ca66-4bc6-870d-9fe0d18ed477",
   "metadata": {},
   "outputs": [
    {
     "name": "stdout",
     "output_type": "stream",
     "text": [
      "A= \n",
      "[[ 0 -5 -2 -2]\n",
      " [ 2  4 -2  0]\n",
      " [-3 -1  2  1]\n",
      " [ 3  3 -4  1]]\n",
      "det= -63.99999999999998\n"
     ]
    }
   ],
   "source": [
    "n= 4 \n",
    "\n",
    "np.random.seed(0)\n",
    "A= np.random.randint(-5,5,size=(n,n))\n",
    "print(f'A= \\n{A}')\n",
    "\n",
    "det= np.linalg.det(A)\n",
    "print(f'det= {det}')"
   ]
  },
  {
   "cell_type": "code",
   "execution_count": 15,
   "id": "625bcc0b-2e58-4fa8-884e-311e4c79930f",
   "metadata": {},
   "outputs": [
    {
     "name": "stdout",
     "output_type": "stream",
     "text": [
      "det= -64.00000000000003\n"
     ]
    }
   ],
   "source": [
    "i= 0\n",
    "det= 0\n",
    "for j in range(n):\n",
    "    Bi=  np.delete(A, i, axis=0)\n",
    "    Bij= np.delete(Bi,j, axis=1)\n",
    "    Bij= np.linalg.det(Bij)\n",
    "    Aij= A[i,j]*Bij*(-1)**(i+j)\n",
    "    det += Aij\n",
    "print(f'det= {det}')"
   ]
  },
  {
   "cell_type": "code",
   "execution_count": 16,
   "id": "425bddb9-0993-4ef0-94bc-a2fc641278ab",
   "metadata": {},
   "outputs": [
    {
     "name": "stdout",
     "output_type": "stream",
     "text": [
      "det= -63.99999999999998\n"
     ]
    }
   ],
   "source": [
    "j= 0\n",
    "det= 0\n",
    "for i in range(n):\n",
    "    Bj=  np.delete(A, j, axis=1)\n",
    "    Bij= np.delete(Bj,i, axis=0)\n",
    "    Bij= np.linalg.det(Bij)\n",
    "    Aij= A[i,j]*Bij*(-1)**(i+j)\n",
    "    det += Aij\n",
    "print(f'det= {det}')"
   ]
  },
  {
   "cell_type": "code",
   "execution_count": 17,
   "id": "ba76a6f1-d592-4d70-a389-819e13391d5c",
   "metadata": {},
   "outputs": [
    {
     "name": "stdout",
     "output_type": "stream",
     "text": [
      "det= -64\n"
     ]
    }
   ],
   "source": [
    "def ryDet(A):\n",
    "    \n",
    "    n= A.shape[0]\n",
    "    if n>1:\n",
    "        i= 0\n",
    "        det= 0\n",
    "        for j in range(n):\n",
    "            Bi=  np.delete(A, i, axis=0)\n",
    "            Bij= np.delete(Bi,j, axis=1)\n",
    "            \n",
    "            Bij= ryDet(Bij) #np.linalg.det(Bij)\n",
    "            \n",
    "            Aij= A[i,j]*Bij*(-1)**(i+j)\n",
    "            det += Aij\n",
    "        #print(f'det= {det}')\n",
    "        return det\n",
    "    \n",
    "    elif A.shape[0]==1:\n",
    "        det= A[0,0]\n",
    "        return det\n",
    "    else:\n",
    "        return None\n",
    "\n",
    "det= ryDet(A)\n",
    "print(f'det= {det}')"
   ]
  },
  {
   "cell_type": "code",
   "execution_count": 18,
   "id": "5eedb176-8cf9-485f-b716-1fec89316d2f",
   "metadata": {},
   "outputs": [
    {
     "name": "stdout",
     "output_type": "stream",
     "text": [
      "A= \n",
      "[[ 0 -5 -2 -2]\n",
      " [ 2  4 -2  0]\n",
      " [-3 -1  2  1]\n",
      " [ 3  3 -4  1]]\n",
      "i= 0, Bi= \n",
      "[[ 2  4 -2  0]\n",
      " [-3 -1  2  1]\n",
      " [ 3  3 -4  1]]\n",
      "i,j= 00, Bij= \n",
      "[[ 4 -2  0]\n",
      " [-1  2  1]\n",
      " [ 3 -4  1]]\n",
      ".... Dij= 16.000000000000007\n",
      "i,j= 01, Bij= \n",
      "[[ 2 -2  0]\n",
      " [-3  2  1]\n",
      " [ 3 -4  1]]\n",
      ".... Dij= -6.66133814775094e-16\n",
      "i,j= 02, Bij= \n",
      "[[ 2  4  0]\n",
      " [-3 -1  1]\n",
      " [ 3  3  1]]\n",
      ".... Dij= 16.000000000000007\n",
      "i,j= 03, Bij= \n",
      "[[ 2  4 -2]\n",
      " [-3 -1  2]\n",
      " [ 3  3 -4]]\n",
      ".... Dij= -16.000000000000007\n",
      "det= -64.00000000000003\n"
     ]
    }
   ],
   "source": [
    "print(f'A= \\n{A}')\n",
    "\n",
    "i= 0\n",
    "Bi=  np.delete(A, i, axis=0)\n",
    "print(f'i= {i}, Bi= \\n{Bi}')\n",
    "\n",
    "det= 0\n",
    "for j in range(n):    \n",
    "    Bij= np.delete(Bi,j, axis=1)\n",
    "    print(f'i,j= {i}{j}, Bij= \\n{Bij}')\n",
    "    Dij= np.linalg.det(Bij)\n",
    "    print(f'.... Dij= {Dij}')\n",
    "    Cij= A[i,j]*Dij*(-1)**(i+j)\n",
    "    det += Cij\n",
    "\n",
    "print(f'det= {det}')"
   ]
  },
  {
   "cell_type": "code",
   "execution_count": 19,
   "id": "8193c77e-327d-42ea-bd86-0442e3d3cbe7",
   "metadata": {},
   "outputs": [
    {
     "name": "stdout",
     "output_type": "stream",
     "text": [
      "A= \n",
      "[[ 0 -5 -2 -2]\n",
      " [ 2  4 -2  0]\n",
      " [-3 -1  2  1]\n",
      " [ 3  3 -4  1]]\n",
      "\n",
      "i,j= 00, Bij= \n",
      "[[ 4 -2  0]\n",
      " [-1  2  1]\n",
      " [ 3 -4  1]]\n",
      "\n",
      "i,j= 00, Bij= \n",
      "[[ 2  1]\n",
      " [-4  1]]\n",
      "\n",
      "i,j= 00, Bij= \n",
      "[[1]]\n",
      ".... Dij= 1\n",
      "\n",
      "i,j= 01, Bij= \n",
      "[[-4]]\n",
      ".... Dij= -4\n",
      ".... Dij= 6\n",
      "\n",
      "i,j= 01, Bij= \n",
      "[[-1  1]\n",
      " [ 3  1]]\n",
      "\n",
      "i,j= 00, Bij= \n",
      "[[1]]\n",
      ".... Dij= 1\n",
      "\n",
      "i,j= 01, Bij= \n",
      "[[3]]\n",
      ".... Dij= 3\n",
      ".... Dij= -4\n",
      "\n",
      "i,j= 02, Bij= \n",
      "[[-1  2]\n",
      " [ 3 -4]]\n",
      "\n",
      "i,j= 00, Bij= \n",
      "[[-4]]\n",
      ".... Dij= -4\n",
      "\n",
      "i,j= 01, Bij= \n",
      "[[3]]\n",
      ".... Dij= 3\n",
      ".... Dij= -2\n",
      ".... Dij= 16\n",
      "\n",
      "i,j= 01, Bij= \n",
      "[[ 2 -2  0]\n",
      " [-3  2  1]\n",
      " [ 3 -4  1]]\n",
      "\n",
      "i,j= 00, Bij= \n",
      "[[ 2  1]\n",
      " [-4  1]]\n",
      "\n",
      "i,j= 00, Bij= \n",
      "[[1]]\n",
      ".... Dij= 1\n",
      "\n",
      "i,j= 01, Bij= \n",
      "[[-4]]\n",
      ".... Dij= -4\n",
      ".... Dij= 6\n",
      "\n",
      "i,j= 01, Bij= \n",
      "[[-3  1]\n",
      " [ 3  1]]\n",
      "\n",
      "i,j= 00, Bij= \n",
      "[[1]]\n",
      ".... Dij= 1\n",
      "\n",
      "i,j= 01, Bij= \n",
      "[[3]]\n",
      ".... Dij= 3\n",
      ".... Dij= -6\n",
      "\n",
      "i,j= 02, Bij= \n",
      "[[-3  2]\n",
      " [ 3 -4]]\n",
      "\n",
      "i,j= 00, Bij= \n",
      "[[-4]]\n",
      ".... Dij= -4\n",
      "\n",
      "i,j= 01, Bij= \n",
      "[[3]]\n",
      ".... Dij= 3\n",
      ".... Dij= 6\n",
      ".... Dij= 0\n",
      "\n",
      "i,j= 02, Bij= \n",
      "[[ 2  4  0]\n",
      " [-3 -1  1]\n",
      " [ 3  3  1]]\n",
      "\n",
      "i,j= 00, Bij= \n",
      "[[-1  1]\n",
      " [ 3  1]]\n",
      "\n",
      "i,j= 00, Bij= \n",
      "[[1]]\n",
      ".... Dij= 1\n",
      "\n",
      "i,j= 01, Bij= \n",
      "[[3]]\n",
      ".... Dij= 3\n",
      ".... Dij= -4\n",
      "\n",
      "i,j= 01, Bij= \n",
      "[[-3  1]\n",
      " [ 3  1]]\n",
      "\n",
      "i,j= 00, Bij= \n",
      "[[1]]\n",
      ".... Dij= 1\n",
      "\n",
      "i,j= 01, Bij= \n",
      "[[3]]\n",
      ".... Dij= 3\n",
      ".... Dij= -6\n",
      "\n",
      "i,j= 02, Bij= \n",
      "[[-3 -1]\n",
      " [ 3  3]]\n",
      "\n",
      "i,j= 00, Bij= \n",
      "[[3]]\n",
      ".... Dij= 3\n",
      "\n",
      "i,j= 01, Bij= \n",
      "[[3]]\n",
      ".... Dij= 3\n",
      ".... Dij= -6\n",
      ".... Dij= 16\n",
      "\n",
      "i,j= 03, Bij= \n",
      "[[ 2  4 -2]\n",
      " [-3 -1  2]\n",
      " [ 3  3 -4]]\n",
      "\n",
      "i,j= 00, Bij= \n",
      "[[-1  2]\n",
      " [ 3 -4]]\n",
      "\n",
      "i,j= 00, Bij= \n",
      "[[-4]]\n",
      ".... Dij= -4\n",
      "\n",
      "i,j= 01, Bij= \n",
      "[[3]]\n",
      ".... Dij= 3\n",
      ".... Dij= -2\n",
      "\n",
      "i,j= 01, Bij= \n",
      "[[-3  2]\n",
      " [ 3 -4]]\n",
      "\n",
      "i,j= 00, Bij= \n",
      "[[-4]]\n",
      ".... Dij= -4\n",
      "\n",
      "i,j= 01, Bij= \n",
      "[[3]]\n",
      ".... Dij= 3\n",
      ".... Dij= 6\n",
      "\n",
      "i,j= 02, Bij= \n",
      "[[-3 -1]\n",
      " [ 3  3]]\n",
      "\n",
      "i,j= 00, Bij= \n",
      "[[3]]\n",
      ".... Dij= 3\n",
      "\n",
      "i,j= 01, Bij= \n",
      "[[3]]\n",
      ".... Dij= 3\n",
      ".... Dij= -6\n",
      ".... Dij= -16\n",
      "\n",
      "det= -64\n"
     ]
    }
   ],
   "source": [
    "print(f'A= \\n{A}')\n",
    "\n",
    "def ryDet(A):\n",
    "    \n",
    "    n= A.shape[0]\n",
    "    if n>1:\n",
    "        i= 0\n",
    "        Bi=  np.delete(A, i, axis=0)\n",
    "        #print(f'\\ni= {i}, Bi= \\n{Bi}')\n",
    "        \n",
    "        det= 0\n",
    "        for j in range(n):\n",
    "            \n",
    "            Bij= np.delete(Bi,j, axis=1)\n",
    "            print(f'\\ni,j= {i}{j}, Bij= \\n{Bij}')\n",
    "            \n",
    "            Dij= ryDet(Bij) #np.linalg.det(Bij)\n",
    "            print(f'.... Dij= {Dij}')\n",
    "            \n",
    "            Cij= A[i,j]*Dij*(-1)**(i+j)\n",
    "            det += Cij\n",
    "        #print(f'det= {det}')\n",
    "        return det\n",
    "    \n",
    "    elif A.shape[0]==1:\n",
    "        det= A[0,0]\n",
    "        return det\n",
    "    else:\n",
    "        return None\n",
    "\n",
    "det= ryDet(A)\n",
    "print(f'\\ndet= {det}')"
   ]
  },
  {
   "cell_type": "code",
   "execution_count": 20,
   "id": "381d9f7e-b73a-4d89-a169-569a50c623e9",
   "metadata": {},
   "outputs": [
    {
     "data": {
      "text/plain": [
       "True"
      ]
     },
     "execution_count": 20,
     "metadata": {},
     "output_type": "execute_result"
    }
   ],
   "source": [
    "import scipy.linalg\n",
    "\n",
    "A= [[4,3],\n",
    "    [6,3]]\n",
    "\n",
    "'''\n",
    "A= [[12, -51, 4], \n",
    "    [6, 167, -68],\n",
    "    [-4, 24, -41]]\n",
    "'''\n",
    "\n",
    "A= np.array(A)\n",
    "\n",
    "P,L,U= scipy.linalg.lu(A)\n",
    "\n",
    "# 驗算\n",
    "P @ L @ U == A\n",
    "np.isclose(P @ L @ U , A)\n",
    "np.allclose(P @ L @ U , A)\n",
    "\n",
    "#%%\n",
    "Q,R= scipy.linalg.qr(A)\n",
    "\n",
    "# 驗算\n",
    "(Q @ R == A).all()\n",
    "\n",
    "np.allclose(Q @ R , A)"
   ]
  },
  {
   "cell_type": "code",
   "execution_count": 21,
   "id": "ea93a27d-39e0-4ec9-8d3a-d0f677ef7646",
   "metadata": {},
   "outputs": [],
   "source": [
    "λ, Q= scipy.linalg.eig(A)\n",
    "\n",
    "lmbd= λ \n",
    "# 驗算\n",
    "#assert A @ Q[:,0] == Q[:,0] * λ[0]\n",
    "\n",
    "assert np.allclose(A @ Q[:,0], Q[:,0] * λ[0] )\n",
    "\n",
    "assert np.allclose(A @ Q, Q @ np.diag(λ) )"
   ]
  },
  {
   "cell_type": "code",
   "execution_count": 22,
   "id": "e52154fd-a7a2-4f39-8556-472bd99e9696",
   "metadata": {},
   "outputs": [],
   "source": [
    "U, σ, V_T= scipy.linalg.svd(A)\n",
    "\n",
    "V= V_T.T\n",
    "\n",
    "Σ= np.diag(σ)\n",
    "\n",
    "sigma= σ\n",
    "Sigma= Σ \n",
    "\n",
    "# 驗算\n",
    "\n",
    "assert np.allclose(U @  Σ @ V.T, A )\n",
    "\n",
    "# 再檢查 U, V 的正交性質\n",
    "\n",
    "assert np.allclose(U[0]@U[1] , 0)\n",
    "assert np.allclose(V[0]@V[1] , 0)\n",
    "assert np.allclose(U[0]@U[0] , 1)\n",
    "assert np.allclose(V[0]@V[0] , 1)\n",
    "\n",
    "#\n",
    "# 檢查 orthogonal , orthonormal\n",
    "#\n",
    "assert np.allclose(U@U.T, np.eye(U.shape[0]))\n",
    "assert np.allclose(V@V.T, np.eye(V.shape[0]))\n",
    "\n",
    "#\n",
    "assert np.allclose(A  @V, U@Σ)\n",
    "assert np.allclose(A.T@U, V@Σ)"
   ]
  },
  {
   "cell_type": "code",
   "execution_count": 23,
   "id": "280b80aa-0d27-4d9d-953f-fe2a1bc3a419",
   "metadata": {},
   "outputs": [],
   "source": [
    "import numpy as np\n",
    "import scipy.linalg as sp_linalg\n",
    "\n",
    "M= [[1,2],\n",
    "    [3,4]]\n",
    "M= np.array(M)\n",
    "U,sigma,V_T= np.linalg.svd(M)\n",
    "V= V_T.T\n",
    "MtM= M.T@M\n",
    "ld, Q= np.linalg.eig(MtM)"
   ]
  },
  {
   "cell_type": "code",
   "execution_count": 24,
   "id": "5a0dd13e-24bd-42da-822a-d1b34600b89e",
   "metadata": {},
   "outputs": [],
   "source": [
    "A= [[12, -51, 4], \n",
    "    [6, 167, -68],\n",
    "    [-4, 24, -41]]\n",
    "A= np.array(A)\n",
    "Q,R= np.linalg.qr(A)"
   ]
  },
  {
   "cell_type": "code",
   "execution_count": 25,
   "id": "55d3cc3f-2ebe-4aa4-bfce-d2c78523f3b4",
   "metadata": {},
   "outputs": [],
   "source": [
    "A= [[2,1],\n",
    "    [1,2]]\n",
    "A= np.array(A)\n",
    "lmda, eigV= np.linalg.eig(A)"
   ]
  },
  {
   "cell_type": "code",
   "execution_count": 26,
   "id": "1664e1d0-dc64-4523-84c0-c6ec800bce05",
   "metadata": {},
   "outputs": [],
   "source": [
    "Q, R= np.linalg.qr(A)"
   ]
  },
  {
   "cell_type": "code",
   "execution_count": 27,
   "id": "5f6c06bf-8356-476f-b1b5-359cf7cc2011",
   "metadata": {},
   "outputs": [],
   "source": [
    "U,Sigma,V_T= np.linalg.svd(A)\n",
    "V= V_T.T"
   ]
  },
  {
   "cell_type": "code",
   "execution_count": 28,
   "id": "ce9ca2f7-23c8-4577-94e4-a2ce79bf6bb2",
   "metadata": {},
   "outputs": [
    {
     "name": "stdout",
     "output_type": "stream",
     "text": [
      "A= \n",
      "[[ 1 -1]\n",
      " [ 1  1]], \n",
      "S= \n",
      "[[2 0]\n",
      " [0 1]], \n",
      "B= \n",
      "[[3 1]\n",
      " [1 3]]\n"
     ]
    }
   ],
   "source": [
    "A= [[1,-1],\n",
    "    [1,1]]\n",
    "A= np.array(A)\n",
    "S= np.diag([2,1])\n",
    "B= A@S@A.T\n",
    "\n",
    "print(f'A= \\n{A}, \\nS= \\n{S}, \\nB= \\n{B}')"
   ]
  },
  {
   "cell_type": "code",
   "execution_count": 29,
   "id": "e338b9d9-4fa6-470f-9a93-ca9b39c721f4",
   "metadata": {},
   "outputs": [],
   "source": [
    "lmda, eigV= np.linalg.eig(B)\n",
    "Q, R= np.linalg.qr(B)\n",
    "U,Sigma,V_T= np.linalg.svd(B)\n",
    "V= V_T.T"
   ]
  },
  {
   "cell_type": "code",
   "execution_count": 30,
   "id": "a1752aa5-9319-464d-bf0b-3c34a961187f",
   "metadata": {},
   "outputs": [],
   "source": [
    "A= [[10,1],\n",
    "    [1,10]]\n",
    "A= np.array(A)\n",
    "\n",
    "lmda, eigV= np.linalg.eig(A)"
   ]
  },
  {
   "cell_type": "code",
   "execution_count": 31,
   "id": "d2f9ad43-9ca9-411b-8bd0-0b99118bc3ab",
   "metadata": {},
   "outputs": [],
   "source": [
    "A= [[1,1],\n",
    "    [0,1]]\n",
    "A= np.array(A)\n",
    "\n",
    "lmda, eigV= np.linalg.eig(A)"
   ]
  },
  {
   "cell_type": "code",
   "execution_count": 32,
   "id": "58d372d5-1f1b-43b5-aafc-a09e3a158eed",
   "metadata": {},
   "outputs": [],
   "source": [
    "A= [[4,1],\n",
    "    [1,4]]\n",
    "A= np.array(A)\n",
    "\n",
    "X= [[1,0,1,-1,-1,-1],\n",
    "    [0,1,1,+1,-1,+1]]\n",
    "X= np.array(X)\n",
    "\n",
    "Y= A@X"
   ]
  },
  {
   "cell_type": "markdown",
   "id": "20766f4a-c700-44e4-93c6-cbe38a1769f7",
   "metadata": {},
   "source": [
    "run ryEx002_rowOperationsLU.py"
   ]
  },
  {
   "cell_type": "code",
   "execution_count": 33,
   "id": "edd4ee5d-fa51-4ddb-91a8-ddadce7ba129",
   "metadata": {},
   "outputs": [],
   "source": [
    "import numpy as np\n",
    "import scipy.linalg as sp_linalg\n",
    "import pandas as pd"
   ]
  },
  {
   "cell_type": "code",
   "execution_count": 34,
   "id": "52394e3c-98da-4d1c-80ae-8ccd5f15ac7e",
   "metadata": {},
   "outputs": [
    {
     "name": "stdout",
     "output_type": "stream",
     "text": [
      "\n",
      "A0= \n",
      "[[ 1  2  3]\n",
      " [ 4  5  6]\n",
      " [ 7  8 10]]\n",
      "invP= \n",
      "[[ 1. -0. -0.]\n",
      " [ 4.  1. -0.]\n",
      " [ 7.  2.  1.]]\n",
      "A1= \n",
      "[[ 1.  2.  3.]\n",
      " [ 0. -3. -6.]\n",
      " [ 0.  0.  1.]]   \n",
      "\n"
     ]
    }
   ],
   "source": [
    "A0= np.array(\n",
    "    [[1, 2, 3],\n",
    "     [4, 5, 6],\n",
    "     [7, 8, 10]])\n",
    "\n",
    "A= A0.copy()\n",
    "\n",
    "assert A[0,0] !=0 # otherwise, rowChange(A,0)\n",
    "\n",
    "c10= -A[1,0]/A[0,0]\n",
    "P10= np.array(\n",
    "    [[1, 0, 0],\n",
    "     [c10, 1, 0],\n",
    "     [0, 0, 1]])\n",
    "\n",
    "A= P10@A\n",
    "\n",
    "\n",
    "c20= -A[2,0]/A[0,0]\n",
    "P20= np.array(\n",
    "    [[1, 0, 0],\n",
    "     [0, 1, 0],\n",
    "     [c20, 0, 1]])\n",
    "\n",
    "A= P20@A\n",
    "\n",
    "assert A[1,1] !=0  # otherwise, rowChange(A,1)\n",
    "\n",
    "c21= -A[2,1]/A[1,1]\n",
    "P21= np.array(\n",
    "    [[1, 0, 0],\n",
    "     [0, 1, 0],\n",
    "     [0, c21, 1]])\n",
    "A= P21@A\n",
    "\n",
    "A1= A\n",
    "\n",
    "P= P21@P20@P10\n",
    "invP= np.linalg.inv(P)\n",
    "\n",
    "print(f'''\n",
    "A0= \n",
    "{A0}\n",
    "invP= \n",
    "{invP}\n",
    "A1= \n",
    "{A1}   \n",
    "''')"
   ]
  },
  {
   "cell_type": "code",
   "execution_count": 35,
   "id": "978d01d7-4453-496f-bdf1-e4936a95889b",
   "metadata": {},
   "outputs": [],
   "source": [
    "A1= np.array(\n",
    "    [[1]])\n",
    "\n",
    "A2= np.array(\n",
    "    [[2,1],\n",
    "     [1,2]])\n",
    "\n",
    "A3= np.array(\n",
    "    [[3, 2, 1],\n",
    "     [2, 3, 2],\n",
    "     [1, 2, 3]])"
   ]
  },
  {
   "cell_type": "code",
   "execution_count": 36,
   "id": "309c513c-4215-4679-9e5c-ec77acf1c9a9",
   "metadata": {},
   "outputs": [
    {
     "name": "stdout",
     "output_type": "stream",
     "text": [
      "\n",
      "A= \n",
      "[[2 4]\n",
      " [5 7]]      \n",
      "detA= \n",
      "-5.999999999999998\n",
      "invA= \n",
      "[[-1.16666667  0.66666667]\n",
      " [ 0.83333333 -0.33333333]]\n",
      "A_invA= \n",
      "[[ 1.00000000e+00 -2.22044605e-16]\n",
      " [ 0.00000000e+00  1.00000000e+00]]\n",
      "rankA= 2\n",
      "\n"
     ]
    }
   ],
   "source": [
    "# Create matrix using NumPy\n",
    "A= [[2,4],\n",
    "    [5,7]]\n",
    "\n",
    "A= np.array(A)\n",
    "\n",
    "# Find matrix det, inv, matrix rank, and matrix maultiplication\n",
    "\n",
    "\n",
    "detA=   np.linalg.det(A)\n",
    "invA=   np.linalg.inv(A)\n",
    "A_invA= A@invA\n",
    "\n",
    "rankA= np.linalg.matrix_rank(A)\n",
    "\n",
    "print(f'''\n",
    "A= \n",
    "{A}      \n",
    "detA= \n",
    "{detA}\n",
    "invA= \n",
    "{invA}\n",
    "A_invA= \n",
    "{A_invA}\n",
    "rankA= {rankA}\n",
    "''')\n",
    "\n",
    "assert np.allclose(\n",
    "    A_invA,\n",
    "    np.eye(A.shape[0]))"
   ]
  },
  {
   "cell_type": "code",
   "execution_count": 37,
   "id": "2d0add50-92b9-40da-b034-34f8a466ca69",
   "metadata": {},
   "outputs": [
    {
     "name": "stdout",
     "output_type": "stream",
     "text": [
      "x= [-1.83333333  1.16666667]\n"
     ]
    }
   ],
   "source": [
    "#\n",
    "# Solving linear equations using NumPy\n",
    "#\n",
    "b= [1,-1]\n",
    "b= np.array(b)\n",
    "\n",
    "x= np.linalg.solve(A, b)\n",
    "print(f'x= {x}')\n",
    "\n",
    "assert np.allclose(\n",
    "    A@x, \n",
    "    b)"
   ]
  },
  {
   "cell_type": "code",
   "execution_count": 38,
   "id": "9c0666c9-52f4-4ccb-a5a9-e3de82967179",
   "metadata": {},
   "outputs": [
    {
     "name": "stdout",
     "output_type": "stream",
     "text": [
      "\n",
      "U= \n",
      "[[-0.45868991 -0.8885964 ]\n",
      " [-0.8885964   0.45868991]],\n",
      "σ= \n",
      "[9.67550764 0.6201225 ],\n",
      "V_T= \n",
      "[[-0.5540135  -0.83250768]\n",
      " [ 0.83250768 -0.5540135 ]]      \n",
      "\n"
     ]
    }
   ],
   "source": [
    "# Decomposing a matrix using SVD\n",
    "\n",
    "U,σ,V_T= np.linalg.svd(A)\n",
    "\n",
    "\n",
    "print(f'''\n",
    "U= \n",
    "{U},\n",
    "σ= \n",
    "{σ},\n",
    "V_T= \n",
    "{V_T}      \n",
    "''')\n",
    "\n",
    "assert np.allclose(\n",
    "    A,\n",
    "    U@np.diag(σ)@V_T\n",
    "    )"
   ]
  },
  {
   "cell_type": "code",
   "execution_count": 39,
   "id": "cdd3524b-74b6-419f-b8de-55ec3d0acd78",
   "metadata": {},
   "outputs": [
    {
     "name": "stdout",
     "output_type": "stream",
     "text": [
      "\n",
      "A=\n",
      "[[2 4]\n",
      " [5 7]]\n",
      "λ= \n",
      "[-0.62347538  9.62347538],\n",
      "E= \n",
      "[[-0.83619408 -0.46462222]\n",
      " [ 0.54843365 -0.885509  ]],   \n",
      "\n"
     ]
    }
   ],
   "source": [
    "#\n",
    "# Eigenvectors and Eigenvalues using NumPy\n",
    "#\n",
    "\n",
    "λ, E= np.linalg.eig(A)\n",
    "\n",
    "print(f'''\n",
    "A=\n",
    "{A}\n",
    "λ= \n",
    "{λ},\n",
    "E= \n",
    "{E},   \n",
    "''')\n",
    "\n",
    "assert np.allclose(\n",
    "    A,\n",
    "    E @ np.diag(λ) @ np.linalg.inv(E)\n",
    "    )"
   ]
  },
  {
   "cell_type": "code",
   "execution_count": 40,
   "id": "143410de-8eb5-499d-b862-b8affff8d0cc",
   "metadata": {},
   "outputs": [
    {
     "name": "stdout",
     "output_type": "stream",
     "text": [
      "\n",
      "B=\n",
      "[[29 43]\n",
      " [43 65]],\n",
      "λ1= \n",
      "[ 0.38455192 93.61544808],\n",
      "E1= \n",
      "[[-0.83250768 -0.5540135 ]\n",
      " [ 0.5540135  -0.83250768]],   \n",
      "\n"
     ]
    }
   ],
   "source": [
    "B= A.T@A\n",
    "\n",
    "λ1, E1= np.linalg.eig(B)\n",
    "\n",
    "print(f'''\n",
    "B=\n",
    "{B},\n",
    "λ1= \n",
    "{λ1},\n",
    "E1= \n",
    "{E1},   \n",
    "''')\n",
    "\n",
    "assert np.allclose(\n",
    "    B,\n",
    "    E1 @ np.diag(λ1) @ np.linalg.inv(E1)\n",
    "    )"
   ]
  },
  {
   "cell_type": "code",
   "execution_count": 41,
   "id": "494db245-f5c3-42a4-b7c9-8ec12934e0d7",
   "metadata": {},
   "outputs": [],
   "source": [
    "L= np.linalg.cholesky(A@A.T)"
   ]
  },
  {
   "cell_type": "code",
   "execution_count": 42,
   "id": "367357e2-807d-4ab0-8267-42182ac7ac9f",
   "metadata": {},
   "outputs": [
    {
     "name": "stdout",
     "output_type": "stream",
     "text": [
      "{'rnk': 2, 'det': 2.9999999999999996, 'inv': array([[ 0.66666667, -0.33333333],\n",
      "       [-0.33333333,  0.66666667]]), 'ch': array([[1.41421356, 0.        ],\n",
      "       [0.70710678, 1.22474487]]), 'qr': (array([[-0.89442719, -0.4472136 ],\n",
      "       [-0.4472136 ,  0.89442719]]), array([[-2.23606798, -1.78885438],\n",
      "       [ 0.        ,  1.34164079]])), 'eig': (array([3., 1.]), array([[ 0.70710678, -0.70710678],\n",
      "       [ 0.70710678,  0.70710678]])), 'svd': (array([[-0.70710678, -0.70710678],\n",
      "       [-0.70710678,  0.70710678]]), array([3., 1.]), array([[-0.70710678, -0.70710678],\n",
      "       [-0.70710678,  0.70710678]]))}\n"
     ]
    }
   ],
   "source": [
    "#\n",
    "# for symmtric matrix\n",
    "#\n",
    "\n",
    "C= np.array(\n",
    "    [[2,1],\n",
    "     [1,2]])\n",
    "\n",
    "ans= {\n",
    "    'rnk':  np.linalg.matrix_rank(C),\n",
    "    'det':  np.linalg.det(C),\n",
    "    'inv':  np.linalg.inv(C),\n",
    "    'ch':   np.linalg.cholesky(C),\n",
    "    'qr':   np.linalg.qr(C),\n",
    "    'eig':  np.linalg.eig(C),\n",
    "    'svd':  np.linalg.svd(C)\n",
    "    }\n",
    "\n",
    "print(ans)"
   ]
  },
  {
   "cell_type": "code",
   "execution_count": 43,
   "id": "ff932a15-9099-4c86-a4a9-95a8f5c6d191",
   "metadata": {},
   "outputs": [
    {
     "name": "stdout",
     "output_type": "stream",
     "text": [
      "{'rnk': 3, 'det': 7.999999999999998, 'inv': array([[ 0.625, -0.5  ,  0.125],\n",
      "       [-0.5  ,  1.   , -0.5  ],\n",
      "       [ 0.125, -0.5  ,  0.625]]), 'ch': array([[1.73205081, 0.        , 0.        ],\n",
      "       [1.15470054, 1.29099445, 0.        ],\n",
      "       [0.57735027, 1.03279556, 1.26491106]]), 'qr': (array([[-0.80178373,  0.57735027,  0.15430335],\n",
      "       [-0.53452248, -0.57735027, -0.6172134 ],\n",
      "       [-0.26726124, -0.57735027,  0.77151675]]), array([[-3.74165739, -3.74165739, -2.67261242],\n",
      "       [ 0.        , -1.73205081, -2.30940108],\n",
      "       [ 0.        ,  0.        ,  1.2344268 ]])), 'eig': (array([6.37228132, 2.        , 0.62771868]), array([[-5.41774320e-01, -7.07106781e-01,  4.54401349e-01],\n",
      "       [-6.42620551e-01,  2.02188153e-16, -7.66184591e-01],\n",
      "       [-5.41774320e-01,  7.07106781e-01,  4.54401349e-01]])), 'svd': (array([[-5.41774320e-01,  7.07106781e-01,  4.54401349e-01],\n",
      "       [-6.42620551e-01,  3.28945004e-16, -7.66184591e-01],\n",
      "       [-5.41774320e-01, -7.07106781e-01,  4.54401349e-01]]), array([6.37228132, 2.        , 0.62771868]), array([[-5.41774320e-01, -6.42620551e-01, -5.41774320e-01],\n",
      "       [ 7.07106781e-01,  1.26126502e-16, -7.07106781e-01],\n",
      "       [ 4.54401349e-01, -7.66184591e-01,  4.54401349e-01]]))}\n"
     ]
    }
   ],
   "source": [
    "C= np.array(\n",
    "    [[3,2,1],\n",
    "     [2,3,2],\n",
    "     [1,2,3]])\n",
    "\n",
    "ans= {\n",
    "    'rnk':  np.linalg.matrix_rank(C),\n",
    "    'det':  np.linalg.det(C),\n",
    "    'inv':  np.linalg.inv(C),\n",
    "    'ch':   np.linalg.cholesky(C),\n",
    "    'qr':   np.linalg.qr(C),\n",
    "    'eig':  np.linalg.eig(C),\n",
    "    'svd':  np.linalg.svd(C)\n",
    "    }\n",
    "\n",
    "print(ans)"
   ]
  }
 ],
 "metadata": {
  "kernelspec": {
   "display_name": "Python 3",
   "language": "python",
   "name": "python3"
  },
  "language_info": {
   "codemirror_mode": {
    "name": "ipython",
    "version": 3
   },
   "file_extension": ".py",
   "mimetype": "text/x-python",
   "name": "python",
   "nbconvert_exporter": "python",
   "pygments_lexer": "ipython3",
   "version": "3.8.8"
  }
 },
 "nbformat": 4,
 "nbformat_minor": 5
}
