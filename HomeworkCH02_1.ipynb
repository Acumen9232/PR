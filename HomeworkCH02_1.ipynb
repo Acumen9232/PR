{
 "cells": [
  {
   "cell_type": "markdown",
   "id": "41ee9a82-db11-42d4-9de1-2700c79b3c37",
   "metadata": {},
   "source": [
    "<h1>HomeworkCh02_1</h1>"
   ]
  },
  {
   "cell_type": "code",
   "execution_count": 1,
   "id": "3212aa81-38d1-4f4f-8390-519a7e69641c",
   "metadata": {},
   "outputs": [],
   "source": [
    "import sympy as sm\n",
    "\n",
    "x= sm.symbols('x')\n",
    "\n",
    "y1=1/x\n",
    "y2=x**3\n",
    "y3=sm.euler(x)\n",
    "y4=sm.cos(x)\n",
    "y5=sm.sin(x)"
   ]
  },
  {
   "cell_type": "code",
   "execution_count": 2,
   "id": "3efa8ad0-7a9e-40b3-8e37-aac7691f26e4",
   "metadata": {},
   "outputs": [
    {
     "data": {
      "text/latex": [
       "$\\displaystyle - \\frac{1}{x^{2}}$"
      ],
      "text/plain": [
       "-1/x**2"
      ]
     },
     "execution_count": 2,
     "metadata": {},
     "output_type": "execute_result"
    }
   ],
   "source": [
    "y1.diff(x)"
   ]
  },
  {
   "cell_type": "code",
   "execution_count": 3,
   "id": "71e58409-73a9-4422-b928-937fdbb382de",
   "metadata": {},
   "outputs": [
    {
     "data": {
      "text/latex": [
       "$\\displaystyle \\log{\\left(x \\right)}$"
      ],
      "text/plain": [
       "log(x)"
      ]
     },
     "execution_count": 3,
     "metadata": {},
     "output_type": "execute_result"
    }
   ],
   "source": [
    "y1.integrate(x)"
   ]
  },
  {
   "cell_type": "code",
   "execution_count": 4,
   "id": "6b9bf60d-a759-400e-80cd-f345c5f6f5fe",
   "metadata": {},
   "outputs": [
    {
     "data": {
      "text/latex": [
       "$\\displaystyle 3 x^{2}$"
      ],
      "text/plain": [
       "3*x**2"
      ]
     },
     "execution_count": 4,
     "metadata": {},
     "output_type": "execute_result"
    }
   ],
   "source": [
    "y2.diff(x)"
   ]
  },
  {
   "cell_type": "code",
   "execution_count": 5,
   "id": "8cbba24e-6332-4364-bb57-c3aaa91086e5",
   "metadata": {},
   "outputs": [
    {
     "data": {
      "text/latex": [
       "$\\displaystyle \\frac{x^{4}}{4}$"
      ],
      "text/plain": [
       "x**4/4"
      ]
     },
     "execution_count": 5,
     "metadata": {},
     "output_type": "execute_result"
    }
   ],
   "source": [
    "y2.integrate(x)"
   ]
  },
  {
   "cell_type": "code",
   "execution_count": 6,
   "id": "fbcc58f4-dc8e-4515-a306-f9f2137c3881",
   "metadata": {},
   "outputs": [
    {
     "data": {
      "text/latex": [
       "$\\displaystyle \\frac{d}{d x} E_{x}$"
      ],
      "text/plain": [
       "Derivative(euler(x), x)"
      ]
     },
     "execution_count": 6,
     "metadata": {},
     "output_type": "execute_result"
    }
   ],
   "source": [
    "y3.diff(x)"
   ]
  },
  {
   "cell_type": "code",
   "execution_count": 7,
   "id": "d0ea3384-9c4d-4c27-bb44-577a1ebc1ee9",
   "metadata": {},
   "outputs": [
    {
     "data": {
      "text/latex": [
       "$\\displaystyle \\int E_{x}\\, dx$"
      ],
      "text/plain": [
       "Integral(euler(x), x)"
      ]
     },
     "execution_count": 7,
     "metadata": {},
     "output_type": "execute_result"
    }
   ],
   "source": [
    "y3.integrate(x)"
   ]
  },
  {
   "cell_type": "code",
   "execution_count": 8,
   "id": "adb6d406-7d44-46b7-bce9-a8f2d4197a49",
   "metadata": {},
   "outputs": [
    {
     "data": {
      "text/latex": [
       "$\\displaystyle - \\sin{\\left(x \\right)}$"
      ],
      "text/plain": [
       "-sin(x)"
      ]
     },
     "execution_count": 8,
     "metadata": {},
     "output_type": "execute_result"
    }
   ],
   "source": [
    "y4.diff(x)"
   ]
  },
  {
   "cell_type": "code",
   "execution_count": 9,
   "id": "a6e53f34-f393-4fc5-b9a2-aa12bf2fda96",
   "metadata": {},
   "outputs": [
    {
     "data": {
      "text/latex": [
       "$\\displaystyle \\sin{\\left(x \\right)}$"
      ],
      "text/plain": [
       "sin(x)"
      ]
     },
     "execution_count": 9,
     "metadata": {},
     "output_type": "execute_result"
    }
   ],
   "source": [
    "y4.integrate(x)"
   ]
  },
  {
   "cell_type": "code",
   "execution_count": 10,
   "id": "99d17c55-e1f0-4372-bdef-558dfcfbfa1c",
   "metadata": {},
   "outputs": [
    {
     "data": {
      "text/latex": [
       "$\\displaystyle \\cos{\\left(x \\right)}$"
      ],
      "text/plain": [
       "cos(x)"
      ]
     },
     "execution_count": 10,
     "metadata": {},
     "output_type": "execute_result"
    }
   ],
   "source": [
    "y5.diff(x)"
   ]
  },
  {
   "cell_type": "code",
   "execution_count": 11,
   "id": "28c97801-4e1b-4086-a4bb-e564250cf91d",
   "metadata": {},
   "outputs": [
    {
     "data": {
      "text/latex": [
       "$\\displaystyle \\cos{\\left(x \\right)}$"
      ],
      "text/plain": [
       "cos(x)"
      ]
     },
     "execution_count": 11,
     "metadata": {},
     "output_type": "execute_result"
    }
   ],
   "source": [
    "y5.diff(x)"
   ]
  }
 ],
 "metadata": {
  "kernelspec": {
   "display_name": "Python 3",
   "language": "python",
   "name": "python3"
  },
  "language_info": {
   "codemirror_mode": {
    "name": "ipython",
    "version": 3
   },
   "file_extension": ".py",
   "mimetype": "text/x-python",
   "name": "python",
   "nbconvert_exporter": "python",
   "pygments_lexer": "ipython3",
   "version": "3.8.8"
  }
 },
 "nbformat": 4,
 "nbformat_minor": 5
}
